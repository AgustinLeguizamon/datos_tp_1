{
 "cells": [
  {
   "cell_type": "code",
   "execution_count": 1,
   "metadata": {},
   "outputs": [],
   "source": [
    "%config IPCompleter.greedy=True"
   ]
  },
  {
   "cell_type": "code",
   "execution_count": 2,
   "metadata": {},
   "outputs": [],
   "source": [
    "import pandas as pd\n",
    "import matplotlib.pyplot as plt\n",
    "import numpy as np\n",
    "import seaborn as sns\n",
    "from nlppreprocess import NLP as npl\n",
    "from nltk.corpus import stopwords\n",
    "import nltk\n",
    "from collections import Counter\n",
    "import re\n",
    "plt.style.use('default')\n",
    "sns.set(style=\"whitegrid\")\n",
    "pd.options.display.float_format = '{:20,.2f}'.format "
   ]
  },
  {
   "cell_type": "code",
   "execution_count": 3,
   "metadata": {},
   "outputs": [],
   "source": [
    "import warnings\n",
    "warnings.filterwarnings(\"ignore\", 'This pattern has match groups')"
   ]
  },
  {
   "cell_type": "code",
   "execution_count": 4,
   "metadata": {},
   "outputs": [
    {
     "name": "stderr",
     "output_type": "stream",
     "text": [
      "[nltk_data] Downloading package stopwords to\n",
      "[nltk_data]     C:\\Users\\paola\\AppData\\Roaming\\nltk_data...\n",
      "[nltk_data]   Package stopwords is already up-to-date!\n"
     ]
    },
    {
     "data": {
      "text/plain": [
       "True"
      ]
     },
     "execution_count": 4,
     "metadata": {},
     "output_type": "execute_result"
    }
   ],
   "source": [
    "nltk.download('stopwords')"
   ]
  },
  {
   "cell_type": "code",
   "execution_count": 5,
   "metadata": {},
   "outputs": [],
   "source": [
    "df = pd.read_csv(\"train.csv\")\n",
    "df.drop(columns='id', inplace=True)"
   ]
  },
  {
   "cell_type": "code",
   "execution_count": 6,
   "metadata": {},
   "outputs": [
    {
     "data": {
      "text/plain": [
       "30452"
      ]
     },
     "execution_count": 6,
     "metadata": {},
     "output_type": "execute_result"
    }
   ],
   "source": [
    "df.size"
   ]
  },
  {
   "cell_type": "code",
   "execution_count": 7,
   "metadata": {},
   "outputs": [
    {
     "data": {
      "text/html": [
       "<div>\n",
       "<style scoped>\n",
       "    .dataframe tbody tr th:only-of-type {\n",
       "        vertical-align: middle;\n",
       "    }\n",
       "\n",
       "    .dataframe tbody tr th {\n",
       "        vertical-align: top;\n",
       "    }\n",
       "\n",
       "    .dataframe thead th {\n",
       "        text-align: right;\n",
       "    }\n",
       "</style>\n",
       "<table border=\"1\" class=\"dataframe\">\n",
       "  <thead>\n",
       "    <tr style=\"text-align: right;\">\n",
       "      <th></th>\n",
       "      <th>target</th>\n",
       "    </tr>\n",
       "  </thead>\n",
       "  <tbody>\n",
       "    <tr>\n",
       "      <th>count</th>\n",
       "      <td>7,613.00</td>\n",
       "    </tr>\n",
       "    <tr>\n",
       "      <th>mean</th>\n",
       "      <td>0.43</td>\n",
       "    </tr>\n",
       "    <tr>\n",
       "      <th>std</th>\n",
       "      <td>0.50</td>\n",
       "    </tr>\n",
       "    <tr>\n",
       "      <th>min</th>\n",
       "      <td>0.00</td>\n",
       "    </tr>\n",
       "    <tr>\n",
       "      <th>25%</th>\n",
       "      <td>0.00</td>\n",
       "    </tr>\n",
       "    <tr>\n",
       "      <th>50%</th>\n",
       "      <td>0.00</td>\n",
       "    </tr>\n",
       "    <tr>\n",
       "      <th>75%</th>\n",
       "      <td>1.00</td>\n",
       "    </tr>\n",
       "    <tr>\n",
       "      <th>max</th>\n",
       "      <td>1.00</td>\n",
       "    </tr>\n",
       "  </tbody>\n",
       "</table>\n",
       "</div>"
      ],
      "text/plain": [
       "                    target\n",
       "count             7,613.00\n",
       "mean                  0.43\n",
       "std                   0.50\n",
       "min                   0.00\n",
       "25%                   0.00\n",
       "50%                   0.00\n",
       "75%                   1.00\n",
       "max                   1.00"
      ]
     },
     "execution_count": 7,
     "metadata": {},
     "output_type": "execute_result"
    }
   ],
   "source": [
    "df.describe()"
   ]
  },
  {
   "cell_type": "code",
   "execution_count": 8,
   "metadata": {},
   "outputs": [
    {
     "data": {
      "text/plain": [
       "keyword     object\n",
       "location    object\n",
       "text        object\n",
       "target       int64\n",
       "dtype: object"
      ]
     },
     "execution_count": 8,
     "metadata": {},
     "output_type": "execute_result"
    }
   ],
   "source": [
    "df.dtypes"
   ]
  },
  {
   "cell_type": "code",
   "execution_count": 9,
   "metadata": {},
   "outputs": [
    {
     "data": {
      "text/plain": [
       "7613"
      ]
     },
     "execution_count": 9,
     "metadata": {},
     "output_type": "execute_result"
    }
   ],
   "source": [
    "len(df)"
   ]
  },
  {
   "cell_type": "code",
   "execution_count": 10,
   "metadata": {},
   "outputs": [
    {
     "data": {
      "text/plain": [
       "fatalities               45\n",
       "armageddon               42\n",
       "deluge                   42\n",
       "body%20bags              41\n",
       "damage                   41\n",
       "                         ..\n",
       "forest%20fire            19\n",
       "epicentre                12\n",
       "threat                   11\n",
       "inundation               10\n",
       "radiation%20emergency     9\n",
       "Name: keyword, Length: 221, dtype: int64"
      ]
     },
     "execution_count": 10,
     "metadata": {},
     "output_type": "execute_result"
    }
   ],
   "source": [
    "df.keyword.value_counts()"
   ]
  },
  {
   "cell_type": "code",
   "execution_count": 11,
   "metadata": {},
   "outputs": [
    {
     "data": {
      "text/plain": [
       "evacuate               40\n",
       "burning%20buildings    37\n",
       "bioterrorism           30\n",
       "obliterate             31\n",
       "mudslide               37\n",
       "                       ..\n",
       "lightning              33\n",
       "suicide%20bomb         35\n",
       "hijacking              32\n",
       "wildfire               33\n",
       "volcano                27\n",
       "Name: keyword, Length: 221, dtype: int64"
      ]
     },
     "execution_count": 11,
     "metadata": {},
     "output_type": "execute_result"
    }
   ],
   "source": [
    "df.keyword.value_counts(sort=False)"
   ]
  },
  {
   "cell_type": "code",
   "execution_count": 12,
   "metadata": {},
   "outputs": [
    {
     "data": {
      "text/plain": [
       "USA                              104\n",
       "New York                          71\n",
       "United States                     50\n",
       "London                            45\n",
       "Canada                            29\n",
       "                                ... \n",
       "Portsmouth, UK                     1\n",
       "Uyo, Akwa Ibom State, Nigeria      1\n",
       "Ottawa, Ontario                    1\n",
       "yorkshire\\n                        1\n",
       "ÌÏT: 36.142163,-95.979189          1\n",
       "Name: location, Length: 3341, dtype: int64"
      ]
     },
     "execution_count": 12,
     "metadata": {},
     "output_type": "execute_result"
    }
   ],
   "source": [
    "df.location.value_counts()"
   ]
  },
  {
   "cell_type": "code",
   "execution_count": 13,
   "metadata": {},
   "outputs": [
    {
     "data": {
      "text/plain": [
       "0    4342\n",
       "1    3271\n",
       "Name: target, dtype: int64"
      ]
     },
     "execution_count": 13,
     "metadata": {},
     "output_type": "execute_result"
    }
   ],
   "source": [
    "df['target'].value_counts()"
   ]
  },
  {
   "cell_type": "code",
   "execution_count": 14,
   "metadata": {},
   "outputs": [
    {
     "data": {
      "text/plain": [
       "157"
      ]
     },
     "execution_count": 14,
     "metadata": {},
     "output_type": "execute_result"
    }
   ],
   "source": [
    "df['long']= df['text'].apply(lambda x: len(x))\n",
    "long_max = df['long'].max()\n",
    "long_max"
   ]
  },
  {
   "cell_type": "code",
   "execution_count": 15,
   "metadata": {
    "scrolled": true
   },
   "outputs": [
    {
     "data": {
      "text/plain": [
       "7"
      ]
     },
     "execution_count": 15,
     "metadata": {},
     "output_type": "execute_result"
    }
   ],
   "source": [
    "long_min = df['long'].min()\n",
    "long_min"
   ]
  },
  {
   "cell_type": "code",
   "execution_count": 16,
   "metadata": {},
   "outputs": [
    {
     "data": {
      "image/png": "[encoded data removed]",
      "text/plain": [
       "<Figure size 864x288 with 1 Axes>"
      ]
     },
     "metadata": {
      "needs_background": "light"
     },
     "output_type": "display_data"
    }
   ],
   "source": [
    "fig = plt.figure(figsize=(12,4))\n",
    "df.long.plot.kde(color = 'Blue')\n",
    "plt.show()"
   ]
  },
  {
   "cell_type": "code",
   "execution_count": 17,
   "metadata": {},
   "outputs": [
    {
     "data": {
      "text/plain": [
       "<matplotlib.axes._subplots.AxesSubplot at 0x205b9bc2e10>"
      ]
     },
     "execution_count": 17,
     "metadata": {},
     "output_type": "execute_result"
    },
    {
     "data": {
      "image/png": "[encoded data removed]",
      "text/plain": [
       "<Figure size 432x288 with 1 Axes>"
      ]
     },
     "metadata": {
      "needs_background": "light"
     },
     "output_type": "display_data"
    }
   ],
   "source": [
    "df.long.hist(color='green', bins=10)"
   ]
  },
  {
   "cell_type": "code",
   "execution_count": 18,
   "metadata": {},
   "outputs": [
    {
     "data": {
      "text/plain": [
       "101.03743596479706"
      ]
     },
     "execution_count": 18,
     "metadata": {},
     "output_type": "execute_result"
    }
   ],
   "source": [
    "long_mean = df['long'].mean()\n",
    "long_mean"
   ]
  },
  {
   "cell_type": "code",
   "execution_count": 19,
   "metadata": {},
   "outputs": [
    {
     "data": {
      "text/html": [
       "<div>\n",
       "<style scoped>\n",
       "    .dataframe tbody tr th:only-of-type {\n",
       "        vertical-align: middle;\n",
       "    }\n",
       "\n",
       "    .dataframe tbody tr th {\n",
       "        vertical-align: top;\n",
       "    }\n",
       "\n",
       "    .dataframe thead th {\n",
       "        text-align: right;\n",
       "    }\n",
       "</style>\n",
       "<table border=\"1\" class=\"dataframe\">\n",
       "  <thead>\n",
       "    <tr style=\"text-align: right;\">\n",
       "      <th></th>\n",
       "      <th>keyword</th>\n",
       "      <th>location</th>\n",
       "      <th>text</th>\n",
       "      <th>target</th>\n",
       "      <th>long</th>\n",
       "    </tr>\n",
       "  </thead>\n",
       "  <tbody>\n",
       "    <tr>\n",
       "      <th>7608</th>\n",
       "      <td>NaN</td>\n",
       "      <td>NaN</td>\n",
       "      <td>Two giant cranes holding a bridge collapse int...</td>\n",
       "      <td>1</td>\n",
       "      <td>83</td>\n",
       "    </tr>\n",
       "    <tr>\n",
       "      <th>7609</th>\n",
       "      <td>NaN</td>\n",
       "      <td>NaN</td>\n",
       "      <td>@aria_ahrary @TheTawniest The out of control w...</td>\n",
       "      <td>1</td>\n",
       "      <td>125</td>\n",
       "    </tr>\n",
       "    <tr>\n",
       "      <th>7610</th>\n",
       "      <td>NaN</td>\n",
       "      <td>NaN</td>\n",
       "      <td>M1.94 [01:04 UTC]?5km S of Volcano Hawaii. htt...</td>\n",
       "      <td>1</td>\n",
       "      <td>65</td>\n",
       "    </tr>\n",
       "    <tr>\n",
       "      <th>7611</th>\n",
       "      <td>NaN</td>\n",
       "      <td>NaN</td>\n",
       "      <td>Police investigating after an e-bike collided ...</td>\n",
       "      <td>1</td>\n",
       "      <td>137</td>\n",
       "    </tr>\n",
       "    <tr>\n",
       "      <th>7612</th>\n",
       "      <td>NaN</td>\n",
       "      <td>NaN</td>\n",
       "      <td>The Latest: More Homes Razed by Northern Calif...</td>\n",
       "      <td>1</td>\n",
       "      <td>94</td>\n",
       "    </tr>\n",
       "  </tbody>\n",
       "</table>\n",
       "</div>"
      ],
      "text/plain": [
       "     keyword location                                               text  \\\n",
       "7608     NaN      NaN  Two giant cranes holding a bridge collapse int...   \n",
       "7609     NaN      NaN  @aria_ahrary @TheTawniest The out of control w...   \n",
       "7610     NaN      NaN  M1.94 [01:04 UTC]?5km S of Volcano Hawaii. htt...   \n",
       "7611     NaN      NaN  Police investigating after an e-bike collided ...   \n",
       "7612     NaN      NaN  The Latest: More Homes Razed by Northern Calif...   \n",
       "\n",
       "      target  long  \n",
       "7608       1    83  \n",
       "7609       1   125  \n",
       "7610       1    65  \n",
       "7611       1   137  \n",
       "7612       1    94  "
      ]
     },
     "execution_count": 19,
     "metadata": {},
     "output_type": "execute_result"
    }
   ],
   "source": [
    "df.tail()"
   ]
  },
  {
   "cell_type": "code",
   "execution_count": 20,
   "metadata": {},
   "outputs": [
    {
     "data": {
      "image/png": "[encoded data removed]",
      "text/plain": [
       "<Figure size 432x288 with 1 Axes>"
      ]
     },
     "metadata": {
      "needs_background": "light"
     },
     "output_type": "display_data"
    }
   ],
   "source": [
    "larger_than_mean = df[df['long'] > long_mean]\n",
    "#larger_than_mean.groupby('target').plot.bar(x='target')\n",
    "#larger_than_mean.plot.bar(x='target', y=sum(larger_than_mean.groupby('target')))\n",
    "#plt.bar(larger_than_mean.target, larger_than_mean.target.count())\n",
    "plt.hist(larger_than_mean.target)\n",
    "plt.show()"
   ]
  },
  {
   "cell_type": "code",
   "execution_count": 21,
   "metadata": {},
   "outputs": [
    {
     "data": {
      "image/png": "[encoded data removed]",
      "text/plain": [
       "<Figure size 432x288 with 1 Axes>"
      ]
     },
     "metadata": {
      "needs_background": "light"
     },
     "output_type": "display_data"
    }
   ],
   "source": [
    "smaller_than_mean = df[df.long < long_mean]\n",
    "plt.hist(smaller_than_mean.target)\n",
    "plt.show()"
   ]
  },
  {
   "cell_type": "code",
   "execution_count": 22,
   "metadata": {},
   "outputs": [
    {
     "data": {
      "text/html": [
       "<div>\n",
       "<style scoped>\n",
       "    .dataframe tbody tr th:only-of-type {\n",
       "        vertical-align: middle;\n",
       "    }\n",
       "\n",
       "    .dataframe tbody tr th {\n",
       "        vertical-align: top;\n",
       "    }\n",
       "\n",
       "    .dataframe thead th {\n",
       "        text-align: right;\n",
       "    }\n",
       "</style>\n",
       "<table border=\"1\" class=\"dataframe\">\n",
       "  <thead>\n",
       "    <tr style=\"text-align: right;\">\n",
       "      <th></th>\n",
       "      <th>keyword</th>\n",
       "      <th>location</th>\n",
       "      <th>text</th>\n",
       "      <th>target</th>\n",
       "      <th>long</th>\n",
       "    </tr>\n",
       "  </thead>\n",
       "  <tbody>\n",
       "    <tr>\n",
       "      <th>31</th>\n",
       "      <td>ablaze</td>\n",
       "      <td>Birmingham</td>\n",
       "      <td>@bbcmtd Wholesale Markets ablaze http://t.co/l...</td>\n",
       "      <td>1</td>\n",
       "      <td>55</td>\n",
       "    </tr>\n",
       "    <tr>\n",
       "      <th>32</th>\n",
       "      <td>ablaze</td>\n",
       "      <td>Est. September 2012 - Bristol</td>\n",
       "      <td>We always try to bring the heavy. #metal #RT h...</td>\n",
       "      <td>0</td>\n",
       "      <td>67</td>\n",
       "    </tr>\n",
       "    <tr>\n",
       "      <th>33</th>\n",
       "      <td>ablaze</td>\n",
       "      <td>AFRICA</td>\n",
       "      <td>#AFRICANBAZE: Breaking news:Nigeria flag set a...</td>\n",
       "      <td>1</td>\n",
       "      <td>82</td>\n",
       "    </tr>\n",
       "    <tr>\n",
       "      <th>34</th>\n",
       "      <td>ablaze</td>\n",
       "      <td>Philadelphia, PA</td>\n",
       "      <td>Crying out for more! Set me ablaze</td>\n",
       "      <td>0</td>\n",
       "      <td>34</td>\n",
       "    </tr>\n",
       "    <tr>\n",
       "      <th>35</th>\n",
       "      <td>ablaze</td>\n",
       "      <td>London, UK</td>\n",
       "      <td>On plus side LOOK AT THE SKY LAST NIGHT IT WAS...</td>\n",
       "      <td>0</td>\n",
       "      <td>76</td>\n",
       "    </tr>\n",
       "  </tbody>\n",
       "</table>\n",
       "</div>"
      ],
      "text/plain": [
       "   keyword                       location  \\\n",
       "31  ablaze                     Birmingham   \n",
       "32  ablaze  Est. September 2012 - Bristol   \n",
       "33  ablaze                         AFRICA   \n",
       "34  ablaze               Philadelphia, PA   \n",
       "35  ablaze                     London, UK   \n",
       "\n",
       "                                                 text  target  long  \n",
       "31  @bbcmtd Wholesale Markets ablaze http://t.co/l...       1    55  \n",
       "32  We always try to bring the heavy. #metal #RT h...       0    67  \n",
       "33  #AFRICANBAZE: Breaking news:Nigeria flag set a...       1    82  \n",
       "34                 Crying out for more! Set me ablaze       0    34  \n",
       "35  On plus side LOOK AT THE SKY LAST NIGHT IT WAS...       0    76  "
      ]
     },
     "execution_count": 22,
     "metadata": {},
     "output_type": "execute_result"
    }
   ],
   "source": [
    "#Busco si los que tienen localizacion tienen mas posibilidad de ser reales\n",
    "\n",
    "with_loc = df[df.location.notna()]\n",
    "with_loc.head()"
   ]
  },
  {
   "cell_type": "code",
   "execution_count": 23,
   "metadata": {},
   "outputs": [
    {
     "data": {
      "text/plain": [
       "5080"
      ]
     },
     "execution_count": 23,
     "metadata": {},
     "output_type": "execute_result"
    }
   ],
   "source": [
    "len(with_loc)"
   ]
  },
  {
   "cell_type": "code",
   "execution_count": 24,
   "metadata": {},
   "outputs": [
    {
     "data": {
      "text/plain": [
       "<matplotlib.axes._subplots.AxesSubplot at 0x205b9d062e8>"
      ]
     },
     "execution_count": 24,
     "metadata": {},
     "output_type": "execute_result"
    },
    {
     "data": {
      "image/png": "[encoded data removed]",
      "text/plain": [
       "<Figure size 432x288 with 1 Axes>"
      ]
     },
     "metadata": {
      "needs_background": "light"
     },
     "output_type": "display_data"
    }
   ],
   "source": [
    "with_loc_real = with_loc[with_loc.target == 1]\n",
    "with_loc_real.long.plot.kde(color='salmon')"
   ]
  },
  {
   "cell_type": "code",
   "execution_count": 25,
   "metadata": {},
   "outputs": [
    {
     "data": {
      "text/plain": [
       "<matplotlib.axes._subplots.AxesSubplot at 0x205b9d88a20>"
      ]
     },
     "execution_count": 25,
     "metadata": {},
     "output_type": "execute_result"
    },
    {
     "data": {
      "image/png": "[encoded data removed]",
      "text/plain": [
       "<Figure size 432x288 with 1 Axes>"
      ]
     },
     "metadata": {
      "needs_background": "light"
     },
     "output_type": "display_data"
    }
   ],
   "source": [
    "with_loc_false = with_loc[with_loc.target == 0]\n",
    "with_loc_false.long.plot.kde(color='grey')"
   ]
  },
  {
   "cell_type": "code",
   "execution_count": 26,
   "metadata": {
    "scrolled": true
   },
   "outputs": [
    {
     "data": {
      "text/plain": [
       "7613"
      ]
     },
     "execution_count": 26,
     "metadata": {},
     "output_type": "execute_result"
    }
   ],
   "source": [
    "len(df.location.isna())"
   ]
  },
  {
   "cell_type": "code",
   "execution_count": 27,
   "metadata": {},
   "outputs": [
    {
     "data": {
      "text/plain": [
       "0    1458\n",
       "1    1075\n",
       "Name: target, dtype: int64"
      ]
     },
     "execution_count": 27,
     "metadata": {},
     "output_type": "execute_result"
    }
   ],
   "source": [
    "no_loc = df[df.location.isna()]\n",
    "no_loc.target.value_counts()"
   ]
  },
  {
   "cell_type": "code",
   "execution_count": 28,
   "metadata": {},
   "outputs": [
    {
     "data": {
      "text/html": [
       "<div>\n",
       "<style scoped>\n",
       "    .dataframe tbody tr th:only-of-type {\n",
       "        vertical-align: middle;\n",
       "    }\n",
       "\n",
       "    .dataframe tbody tr th {\n",
       "        vertical-align: top;\n",
       "    }\n",
       "\n",
       "    .dataframe thead th {\n",
       "        text-align: right;\n",
       "    }\n",
       "</style>\n",
       "<table border=\"1\" class=\"dataframe\">\n",
       "  <thead>\n",
       "    <tr style=\"text-align: right;\">\n",
       "      <th></th>\n",
       "      <th>keyword</th>\n",
       "      <th>location</th>\n",
       "      <th>text</th>\n",
       "      <th>target</th>\n",
       "      <th>long</th>\n",
       "    </tr>\n",
       "  </thead>\n",
       "  <tbody>\n",
       "    <tr>\n",
       "      <th>7608</th>\n",
       "      <td>NaN</td>\n",
       "      <td>NaN</td>\n",
       "      <td>Two giant cranes holding a bridge collapse int...</td>\n",
       "      <td>1</td>\n",
       "      <td>83</td>\n",
       "    </tr>\n",
       "    <tr>\n",
       "      <th>7609</th>\n",
       "      <td>NaN</td>\n",
       "      <td>NaN</td>\n",
       "      <td>@aria_ahrary @TheTawniest The out of control w...</td>\n",
       "      <td>1</td>\n",
       "      <td>125</td>\n",
       "    </tr>\n",
       "    <tr>\n",
       "      <th>7610</th>\n",
       "      <td>NaN</td>\n",
       "      <td>NaN</td>\n",
       "      <td>M1.94 [01:04 UTC]?5km S of Volcano Hawaii. htt...</td>\n",
       "      <td>1</td>\n",
       "      <td>65</td>\n",
       "    </tr>\n",
       "    <tr>\n",
       "      <th>7611</th>\n",
       "      <td>NaN</td>\n",
       "      <td>NaN</td>\n",
       "      <td>Police investigating after an e-bike collided ...</td>\n",
       "      <td>1</td>\n",
       "      <td>137</td>\n",
       "    </tr>\n",
       "    <tr>\n",
       "      <th>7612</th>\n",
       "      <td>NaN</td>\n",
       "      <td>NaN</td>\n",
       "      <td>The Latest: More Homes Razed by Northern Calif...</td>\n",
       "      <td>1</td>\n",
       "      <td>94</td>\n",
       "    </tr>\n",
       "  </tbody>\n",
       "</table>\n",
       "</div>"
      ],
      "text/plain": [
       "     keyword location                                               text  \\\n",
       "7608     NaN      NaN  Two giant cranes holding a bridge collapse int...   \n",
       "7609     NaN      NaN  @aria_ahrary @TheTawniest The out of control w...   \n",
       "7610     NaN      NaN  M1.94 [01:04 UTC]?5km S of Volcano Hawaii. htt...   \n",
       "7611     NaN      NaN  Police investigating after an e-bike collided ...   \n",
       "7612     NaN      NaN  The Latest: More Homes Razed by Northern Calif...   \n",
       "\n",
       "      target  long  \n",
       "7608       1    83  \n",
       "7609       1   125  \n",
       "7610       1    65  \n",
       "7611       1   137  \n",
       "7612       1    94  "
      ]
     },
     "execution_count": 28,
     "metadata": {},
     "output_type": "execute_result"
    }
   ],
   "source": [
    "no_loc.tail()"
   ]
  },
  {
   "cell_type": "code",
   "execution_count": 29,
   "metadata": {},
   "outputs": [],
   "source": [
    "def suma_target(grouped_k):\n",
    "    grouped_k['target_suma']= grouped_k['target'].sum()\n",
    "    return grouped_k"
   ]
  },
  {
   "cell_type": "code",
   "execution_count": 30,
   "metadata": {},
   "outputs": [
    {
     "data": {
      "text/html": [
       "<div>\n",
       "<style scoped>\n",
       "    .dataframe tbody tr th:only-of-type {\n",
       "        vertical-align: middle;\n",
       "    }\n",
       "\n",
       "    .dataframe tbody tr th {\n",
       "        vertical-align: top;\n",
       "    }\n",
       "\n",
       "    .dataframe thead th {\n",
       "        text-align: right;\n",
       "    }\n",
       "</style>\n",
       "<table border=\"1\" class=\"dataframe\">\n",
       "  <thead>\n",
       "    <tr style=\"text-align: right;\">\n",
       "      <th></th>\n",
       "      <th>keyword</th>\n",
       "      <th>cant_reales</th>\n",
       "      <th>cant_falsas</th>\n",
       "      <th>target_count</th>\n",
       "    </tr>\n",
       "  </thead>\n",
       "  <tbody>\n",
       "    <tr>\n",
       "      <th>0</th>\n",
       "      <td>ablaze</td>\n",
       "      <td>13</td>\n",
       "      <td>23</td>\n",
       "      <td>36</td>\n",
       "    </tr>\n",
       "    <tr>\n",
       "      <th>1</th>\n",
       "      <td>accident</td>\n",
       "      <td>24</td>\n",
       "      <td>11</td>\n",
       "      <td>35</td>\n",
       "    </tr>\n",
       "    <tr>\n",
       "      <th>2</th>\n",
       "      <td>aftershock</td>\n",
       "      <td>0</td>\n",
       "      <td>34</td>\n",
       "      <td>34</td>\n",
       "    </tr>\n",
       "    <tr>\n",
       "      <th>3</th>\n",
       "      <td>airplane%20accident</td>\n",
       "      <td>30</td>\n",
       "      <td>5</td>\n",
       "      <td>35</td>\n",
       "    </tr>\n",
       "    <tr>\n",
       "      <th>4</th>\n",
       "      <td>ambulance</td>\n",
       "      <td>20</td>\n",
       "      <td>18</td>\n",
       "      <td>38</td>\n",
       "    </tr>\n",
       "    <tr>\n",
       "      <th>...</th>\n",
       "      <td>...</td>\n",
       "      <td>...</td>\n",
       "      <td>...</td>\n",
       "      <td>...</td>\n",
       "    </tr>\n",
       "    <tr>\n",
       "      <th>216</th>\n",
       "      <td>wounded</td>\n",
       "      <td>26</td>\n",
       "      <td>11</td>\n",
       "      <td>37</td>\n",
       "    </tr>\n",
       "    <tr>\n",
       "      <th>217</th>\n",
       "      <td>wounds</td>\n",
       "      <td>10</td>\n",
       "      <td>23</td>\n",
       "      <td>33</td>\n",
       "    </tr>\n",
       "    <tr>\n",
       "      <th>218</th>\n",
       "      <td>wreck</td>\n",
       "      <td>7</td>\n",
       "      <td>30</td>\n",
       "      <td>37</td>\n",
       "    </tr>\n",
       "    <tr>\n",
       "      <th>219</th>\n",
       "      <td>wreckage</td>\n",
       "      <td>39</td>\n",
       "      <td>0</td>\n",
       "      <td>39</td>\n",
       "    </tr>\n",
       "    <tr>\n",
       "      <th>220</th>\n",
       "      <td>wrecked</td>\n",
       "      <td>3</td>\n",
       "      <td>36</td>\n",
       "      <td>39</td>\n",
       "    </tr>\n",
       "  </tbody>\n",
       "</table>\n",
       "<p>221 rows × 4 columns</p>\n",
       "</div>"
      ],
      "text/plain": [
       "                 keyword  cant_reales  cant_falsas  target_count\n",
       "0                 ablaze           13           23            36\n",
       "1               accident           24           11            35\n",
       "2             aftershock            0           34            34\n",
       "3    airplane%20accident           30            5            35\n",
       "4              ambulance           20           18            38\n",
       "..                   ...          ...          ...           ...\n",
       "216              wounded           26           11            37\n",
       "217               wounds           10           23            33\n",
       "218                wreck            7           30            37\n",
       "219             wreckage           39            0            39\n",
       "220              wrecked            3           36            39\n",
       "\n",
       "[221 rows x 4 columns]"
      ]
     },
     "execution_count": 30,
     "metadata": {},
     "output_type": "execute_result"
    }
   ],
   "source": [
    "suma=0\n",
    "#grouped_k['suma'] = df.groupby(['keyword', 'target']).apply(lambda x: suma + x for x in df['target'] if x== 1)\n",
    "grouped_k= df.groupby(['keyword']).agg({'target':['sum','count']} ).reset_index()\n",
    "#grouped_k['sum_target'] = grouped_k['target'].apply('sum')\n",
    "#grouped_k['suma']= grouped_k.apply(lambda x: (suma + x) for x in grouped_k['target'] if (x== 1))\n",
    "#grouped_k=df.groupby('keyword')#.apply(suma_target)\n",
    "#grouped_kl['suma']=grouped_kl.target.apply(sum)\n",
    "level0= grouped_k.columns.get_level_values(0)\n",
    "level1= grouped_k.columns.get_level_values(1)\n",
    "grouped_k.columns = level0 + '_' + level1\n",
    "grouped_k.insert(loc=2, column='cant_falsas', value=(grouped_k.target_count - grouped_k.target_sum))\n",
    "#col_rename{'target_sum' : 'cant_reales', 'keyword_':'keyword'})\n",
    "grouped_k.rename(columns={'target_sum' : 'cant_reales', 'keyword_':'keyword'}, inplace=True)\n",
    "grouped_k"
   ]
  },
  {
   "cell_type": "code",
   "execution_count": 31,
   "metadata": {},
   "outputs": [
    {
     "data": {
      "image/png": "[encoded data removed]",
      "text/plain": [
       "<Figure size 2160x504 with 1 Axes>"
      ]
     },
     "metadata": {
      "needs_background": "light"
     },
     "output_type": "display_data"
    }
   ],
   "source": [
    "fig = plt.figure(figsize=(30,7))\n",
    "ax = plt.subplot()\n",
    "ax.bar(grouped_k.keyword, grouped_k.cant_reales, width = 1, label='Real', align = 'edge')\n",
    "ax.bar(grouped_k.keyword, grouped_k.cant_falsas, width = 1, bottom=grouped_k.cant_reales, label='Falso', align = 'edge')\n",
    "plt.xticks(rotation=90)\n",
    "\n",
    "ax.legend()\n",
    "plt.show()"
   ]
  },
  {
   "cell_type": "code",
   "execution_count": 32,
   "metadata": {},
   "outputs": [],
   "source": [
    "stop = stopwords.words('english')"
   ]
  },
  {
   "cell_type": "code",
   "execution_count": null,
   "metadata": {},
   "outputs": [],
   "source": []
  },
  {
   "cell_type": "code",
   "execution_count": 33,
   "metadata": {},
   "outputs": [],
   "source": [
    "def cuenta_iguales(lista):\n",
    "    c= Counter(lista)\n",
    "    count=0\n",
    "    for key in c:\n",
    "        if (c[key]>1):\n",
    "            count+=1\n",
    "    return count"
   ]
  },
  {
   "cell_type": "code",
   "execution_count": 34,
   "metadata": {
    "scrolled": true
   },
   "outputs": [],
   "source": [
    "df['equal_words'] = df.text.agg(lambda x: cuenta_iguales([word for word in x.split() if word not in stop]))\n"
   ]
  },
  {
   "cell_type": "code",
   "execution_count": 35,
   "metadata": {},
   "outputs": [
    {
     "data": {
      "text/html": [
       "<div>\n",
       "<style scoped>\n",
       "    .dataframe tbody tr th:only-of-type {\n",
       "        vertical-align: middle;\n",
       "    }\n",
       "\n",
       "    .dataframe tbody tr th {\n",
       "        vertical-align: top;\n",
       "    }\n",
       "\n",
       "    .dataframe thead th {\n",
       "        text-align: right;\n",
       "    }\n",
       "</style>\n",
       "<table border=\"1\" class=\"dataframe\">\n",
       "  <thead>\n",
       "    <tr style=\"text-align: right;\">\n",
       "      <th></th>\n",
       "      <th>keyword</th>\n",
       "      <th>location</th>\n",
       "      <th>text</th>\n",
       "      <th>target</th>\n",
       "      <th>long</th>\n",
       "      <th>equal_words</th>\n",
       "    </tr>\n",
       "  </thead>\n",
       "  <tbody>\n",
       "    <tr>\n",
       "      <th>0</th>\n",
       "      <td>NaN</td>\n",
       "      <td>NaN</td>\n",
       "      <td>Our Deeds are the Reason of this #earthquake M...</td>\n",
       "      <td>1</td>\n",
       "      <td>69</td>\n",
       "      <td>0</td>\n",
       "    </tr>\n",
       "    <tr>\n",
       "      <th>1</th>\n",
       "      <td>NaN</td>\n",
       "      <td>NaN</td>\n",
       "      <td>Forest fire near La Ronge Sask. Canada</td>\n",
       "      <td>1</td>\n",
       "      <td>38</td>\n",
       "      <td>0</td>\n",
       "    </tr>\n",
       "    <tr>\n",
       "      <th>2</th>\n",
       "      <td>NaN</td>\n",
       "      <td>NaN</td>\n",
       "      <td>All residents asked to 'shelter in place' are ...</td>\n",
       "      <td>1</td>\n",
       "      <td>133</td>\n",
       "      <td>0</td>\n",
       "    </tr>\n",
       "    <tr>\n",
       "      <th>3</th>\n",
       "      <td>NaN</td>\n",
       "      <td>NaN</td>\n",
       "      <td>13,000 people receive #wildfires evacuation or...</td>\n",
       "      <td>1</td>\n",
       "      <td>65</td>\n",
       "      <td>0</td>\n",
       "    </tr>\n",
       "    <tr>\n",
       "      <th>4</th>\n",
       "      <td>NaN</td>\n",
       "      <td>NaN</td>\n",
       "      <td>Just got sent this photo from Ruby #Alaska as ...</td>\n",
       "      <td>1</td>\n",
       "      <td>88</td>\n",
       "      <td>0</td>\n",
       "    </tr>\n",
       "  </tbody>\n",
       "</table>\n",
       "</div>"
      ],
      "text/plain": [
       "  keyword location                                               text  target  \\\n",
       "0     NaN      NaN  Our Deeds are the Reason of this #earthquake M...       1   \n",
       "1     NaN      NaN             Forest fire near La Ronge Sask. Canada       1   \n",
       "2     NaN      NaN  All residents asked to 'shelter in place' are ...       1   \n",
       "3     NaN      NaN  13,000 people receive #wildfires evacuation or...       1   \n",
       "4     NaN      NaN  Just got sent this photo from Ruby #Alaska as ...       1   \n",
       "\n",
       "   long  equal_words  \n",
       "0    69            0  \n",
       "1    38            0  \n",
       "2   133            0  \n",
       "3    65            0  \n",
       "4    88            0  "
      ]
     },
     "execution_count": 35,
     "metadata": {},
     "output_type": "execute_result"
    }
   ],
   "source": [
    "df.head()"
   ]
  },
  {
   "cell_type": "code",
   "execution_count": 36,
   "metadata": {},
   "outputs": [],
   "source": [
    "word_count = df.groupby(['equal_words'])['target'].agg({'sum','count'} ).reset_index()"
   ]
  },
  {
   "cell_type": "code",
   "execution_count": 37,
   "metadata": {},
   "outputs": [
    {
     "data": {
      "text/html": [
       "<div>\n",
       "<style scoped>\n",
       "    .dataframe tbody tr th:only-of-type {\n",
       "        vertical-align: middle;\n",
       "    }\n",
       "\n",
       "    .dataframe tbody tr th {\n",
       "        vertical-align: top;\n",
       "    }\n",
       "\n",
       "    .dataframe thead th {\n",
       "        text-align: right;\n",
       "    }\n",
       "</style>\n",
       "<table border=\"1\" class=\"dataframe\">\n",
       "  <thead>\n",
       "    <tr style=\"text-align: right;\">\n",
       "      <th></th>\n",
       "      <th>equal_words</th>\n",
       "      <th>count</th>\n",
       "      <th>sum</th>\n",
       "    </tr>\n",
       "  </thead>\n",
       "  <tbody>\n",
       "    <tr>\n",
       "      <th>0</th>\n",
       "      <td>0</td>\n",
       "      <td>6465</td>\n",
       "      <td>2810</td>\n",
       "    </tr>\n",
       "    <tr>\n",
       "      <th>1</th>\n",
       "      <td>1</td>\n",
       "      <td>905</td>\n",
       "      <td>353</td>\n",
       "    </tr>\n",
       "    <tr>\n",
       "      <th>2</th>\n",
       "      <td>2</td>\n",
       "      <td>182</td>\n",
       "      <td>76</td>\n",
       "    </tr>\n",
       "    <tr>\n",
       "      <th>3</th>\n",
       "      <td>3</td>\n",
       "      <td>37</td>\n",
       "      <td>16</td>\n",
       "    </tr>\n",
       "    <tr>\n",
       "      <th>4</th>\n",
       "      <td>4</td>\n",
       "      <td>15</td>\n",
       "      <td>11</td>\n",
       "    </tr>\n",
       "    <tr>\n",
       "      <th>5</th>\n",
       "      <td>5</td>\n",
       "      <td>5</td>\n",
       "      <td>3</td>\n",
       "    </tr>\n",
       "    <tr>\n",
       "      <th>6</th>\n",
       "      <td>6</td>\n",
       "      <td>1</td>\n",
       "      <td>0</td>\n",
       "    </tr>\n",
       "    <tr>\n",
       "      <th>7</th>\n",
       "      <td>8</td>\n",
       "      <td>2</td>\n",
       "      <td>1</td>\n",
       "    </tr>\n",
       "    <tr>\n",
       "      <th>8</th>\n",
       "      <td>9</td>\n",
       "      <td>1</td>\n",
       "      <td>1</td>\n",
       "    </tr>\n",
       "  </tbody>\n",
       "</table>\n",
       "</div>"
      ],
      "text/plain": [
       "   equal_words  count   sum\n",
       "0            0   6465  2810\n",
       "1            1    905   353\n",
       "2            2    182    76\n",
       "3            3     37    16\n",
       "4            4     15    11\n",
       "5            5      5     3\n",
       "6            6      1     0\n",
       "7            8      2     1\n",
       "8            9      1     1"
      ]
     },
     "execution_count": 37,
     "metadata": {},
     "output_type": "execute_result"
    }
   ],
   "source": [
    "word_count.head(30)"
   ]
  },
  {
   "cell_type": "code",
   "execution_count": 38,
   "metadata": {},
   "outputs": [
    {
     "data": {
      "image/png": "[encoded data removed]",
      "text/plain": [
       "<Figure size 864x432 with 1 Axes>"
      ]
     },
     "metadata": {
      "needs_background": "light"
     },
     "output_type": "display_data"
    }
   ],
   "source": [
    "fig,ax = plt.subplots(figsize=(12,6))\n",
    "cambio = lambda x: 'Total tweets' if (x=='count') else 'Disaster tweets'\n",
    "colore= {'sum':'orangered', 'count': 'steelblue'}\n",
    "for name in ['count','sum']:\n",
    "    #ax.scatter(word_count.equal_words, word_count[name],  marker= 'D', label= cambio(name), c=colore[name])\n",
    "    ax.bar(word_count.equal_words, word_count[name], label= cambio(name), color=colore[name], alpha = 0.65)\n",
    "    ax.set_ylim(1,6600)  \n",
    "    ax.set_xlim(-1,10)\n",
    "    ax.set_yscale(\"log\")\n",
    "    plt.legend(fontsize=14)\n",
    "ax.set_xticks(range(11))\n",
    "ax.set_ylabel('Amount of tweets [logarithmic]', fontsize=13)\n",
    "ax.set_xlabel('Amount of repeated words', fontsize=13)\n",
    "ax.set_title('Number of tweets with repeated words',fontsize=20)\n",
    "plt.savefig('Rwords.png')"
   ]
  },
  {
   "cell_type": "code",
   "execution_count": 39,
   "metadata": {},
   "outputs": [],
   "source": [
    "df['Tags']= df['text'].agg(lambda x: x.count('@'))"
   ]
  },
  {
   "cell_type": "code",
   "execution_count": 40,
   "metadata": {},
   "outputs": [
    {
     "data": {
      "text/html": [
       "<div>\n",
       "<style scoped>\n",
       "    .dataframe tbody tr th:only-of-type {\n",
       "        vertical-align: middle;\n",
       "    }\n",
       "\n",
       "    .dataframe tbody tr th {\n",
       "        vertical-align: top;\n",
       "    }\n",
       "\n",
       "    .dataframe thead th {\n",
       "        text-align: right;\n",
       "    }\n",
       "</style>\n",
       "<table border=\"1\" class=\"dataframe\">\n",
       "  <thead>\n",
       "    <tr style=\"text-align: right;\">\n",
       "      <th></th>\n",
       "      <th>Tags</th>\n",
       "      <th>count</th>\n",
       "      <th>sum</th>\n",
       "    </tr>\n",
       "  </thead>\n",
       "  <tbody>\n",
       "    <tr>\n",
       "      <th>0</th>\n",
       "      <td>0</td>\n",
       "      <td>5574</td>\n",
       "      <td>2595</td>\n",
       "    </tr>\n",
       "    <tr>\n",
       "      <th>1</th>\n",
       "      <td>1</td>\n",
       "      <td>1553</td>\n",
       "      <td>519</td>\n",
       "    </tr>\n",
       "    <tr>\n",
       "      <th>2</th>\n",
       "      <td>2</td>\n",
       "      <td>343</td>\n",
       "      <td>102</td>\n",
       "    </tr>\n",
       "    <tr>\n",
       "      <th>3</th>\n",
       "      <td>3</td>\n",
       "      <td>87</td>\n",
       "      <td>41</td>\n",
       "    </tr>\n",
       "    <tr>\n",
       "      <th>4</th>\n",
       "      <td>4</td>\n",
       "      <td>31</td>\n",
       "      <td>11</td>\n",
       "    </tr>\n",
       "    <tr>\n",
       "      <th>5</th>\n",
       "      <td>5</td>\n",
       "      <td>18</td>\n",
       "      <td>3</td>\n",
       "    </tr>\n",
       "    <tr>\n",
       "      <th>6</th>\n",
       "      <td>6</td>\n",
       "      <td>5</td>\n",
       "      <td>0</td>\n",
       "    </tr>\n",
       "    <tr>\n",
       "      <th>7</th>\n",
       "      <td>7</td>\n",
       "      <td>1</td>\n",
       "      <td>0</td>\n",
       "    </tr>\n",
       "    <tr>\n",
       "      <th>8</th>\n",
       "      <td>8</td>\n",
       "      <td>1</td>\n",
       "      <td>0</td>\n",
       "    </tr>\n",
       "  </tbody>\n",
       "</table>\n",
       "</div>"
      ],
      "text/plain": [
       "   Tags  count   sum\n",
       "0     0   5574  2595\n",
       "1     1   1553   519\n",
       "2     2    343   102\n",
       "3     3     87    41\n",
       "4     4     31    11\n",
       "5     5     18     3\n",
       "6     6      5     0\n",
       "7     7      1     0\n",
       "8     8      1     0"
      ]
     },
     "execution_count": 40,
     "metadata": {},
     "output_type": "execute_result"
    }
   ],
   "source": [
    "tag_count = df.groupby(['Tags'])['target'].agg({'sum','count'}).reset_index()\n",
    "tag_count.head(20)"
   ]
  },
  {
   "cell_type": "code",
   "execution_count": 63,
   "metadata": {},
   "outputs": [
    {
     "data": {
      "image/png": "[encoded data removed]",
      "text/plain": [
       "<Figure size 864x432 with 1 Axes>"
      ]
     },
     "metadata": {
      "needs_background": "light"
     },
     "output_type": "display_data"
    }
   ],
   "source": [
    "\n",
    "fig,ax = plt.subplots(figsize=(12,6))\n",
    "tag_count.rename(columns={'sum' : 'Disaster tweets', 'count':'Total tweets'}, inplace=True)\n",
    "colore= {'Disaster tweets':'crimson', 'Total tweets': 'darkcyan'}\n",
    "for name in ['Total tweets','Disaster tweets']:\n",
    "    #ax.scatter(tag_count.Tags, tag_count[name],  marker= 'D' , label=name , c=colore[name])\n",
    "    ax.bar(tag_count.Tags, tag_count[name], label= cambio(name), color=colore[name], alpha = 0.65)\n",
    "    ax.set_ylim(1,6600)  \n",
    "    ax.set_xlim(-1,9)\n",
    "    ax.set_yscale(\"log\")\n",
    "    ax.set_xlabel('Amount of tags in a tweet')\n",
    "    ax.set_ylabel('Amount of tweets')\n",
    "    plt.legend(['Total tweets', 'Disaster tweets'],fontsize=14)\n",
    "ax.set_xticks(range(10))\n",
    "ax.set_ylabel('Amount of tweets [logarithmic]', fontsize=13)\n",
    "ax.set_xlabel('Amount of tags in a tweet', fontsize=13)\n",
    "ax.set_title('Number of tweets with tags', fontsize=20)\n",
    "plt.savefig('Tags.png')"
   ]
  },
  {
   "cell_type": "code",
   "execution_count": 42,
   "metadata": {},
   "outputs": [],
   "source": [
    "df['with_url']= df.text.str.contains(\"((https?):((//)|(\\\\\\\\))+[\\w\\d:#@%/;$()~_?\\+-=\\\\\\.&]*)\", regex=True)\n",
    "\n",
    "df['with_url']=df['with_url'].astype(int)"
   ]
  },
  {
   "cell_type": "code",
   "execution_count": 43,
   "metadata": {},
   "outputs": [
    {
     "data": {
      "text/html": [
       "<div>\n",
       "<style scoped>\n",
       "    .dataframe tbody tr th:only-of-type {\n",
       "        vertical-align: middle;\n",
       "    }\n",
       "\n",
       "    .dataframe tbody tr th {\n",
       "        vertical-align: top;\n",
       "    }\n",
       "\n",
       "    .dataframe thead th {\n",
       "        text-align: right;\n",
       "    }\n",
       "</style>\n",
       "<table border=\"1\" class=\"dataframe\">\n",
       "  <thead>\n",
       "    <tr style=\"text-align: right;\">\n",
       "      <th></th>\n",
       "      <th>with_url</th>\n",
       "      <th>Total tweets</th>\n",
       "      <th>Total disasters</th>\n",
       "    </tr>\n",
       "  </thead>\n",
       "  <tbody>\n",
       "    <tr>\n",
       "      <th>0</th>\n",
       "      <td>0</td>\n",
       "      <td>3642</td>\n",
       "      <td>1099</td>\n",
       "    </tr>\n",
       "    <tr>\n",
       "      <th>1</th>\n",
       "      <td>1</td>\n",
       "      <td>3971</td>\n",
       "      <td>2172</td>\n",
       "    </tr>\n",
       "  </tbody>\n",
       "</table>\n",
       "</div>"
      ],
      "text/plain": [
       "   with_url  Total tweets  Total disasters\n",
       "0         0          3642             1099\n",
       "1         1          3971             2172"
      ]
     },
     "execution_count": 43,
     "metadata": {},
     "output_type": "execute_result"
    }
   ],
   "source": [
    "url_count = df.groupby(['with_url'])['target'].agg({'sum','count'}).reset_index()\n",
    "\n",
    "url_count.rename(columns={'sum' : 'Total disasters', 'count':'Total tweets'}, inplace=True)\n",
    "url_count.head()"
   ]
  },
  {
   "cell_type": "code",
   "execution_count": 44,
   "metadata": {},
   "outputs": [
    {
     "data": {
      "image/png": "[encoded data removed]",
      "text/plain": [
       "<Figure size 864x576 with 1 Axes>"
      ]
     },
     "metadata": {
      "needs_background": "light"
     },
     "output_type": "display_data"
    }
   ],
   "source": [
    "fig = url_count.set_index('with_url').plot(kind='bar', figsize=(12, 8), cmap=\"RdYlBu_r\", alpha=0.7)\n",
    "fig.axes.set_ylabel('Amount of Tweets', fontsize=14)\n",
    "fig.axes.set_xlabel('')\n",
    "fig.axes.legend( fontsize=13)\n",
    "fig.axes.set_title('Disaster tweets with/without Url', fontsize=20)\n",
    "fig.axes.set_xticklabels(['Without url', 'With url'], rotation=0, fontsize=14)\n",
    "plt.savefig('Url.png')"
   ]
  },
  {
   "cell_type": "code",
   "execution_count": 45,
   "metadata": {},
   "outputs": [
    {
     "data": {
      "text/html": [
       "<div>\n",
       "<style scoped>\n",
       "    .dataframe tbody tr th:only-of-type {\n",
       "        vertical-align: middle;\n",
       "    }\n",
       "\n",
       "    .dataframe tbody tr th {\n",
       "        vertical-align: top;\n",
       "    }\n",
       "\n",
       "    .dataframe thead th {\n",
       "        text-align: right;\n",
       "    }\n",
       "</style>\n",
       "<table border=\"1\" class=\"dataframe\">\n",
       "  <thead>\n",
       "    <tr style=\"text-align: right;\">\n",
       "      <th></th>\n",
       "      <th>with_date</th>\n",
       "      <th>Total tweets</th>\n",
       "      <th>Total disasters</th>\n",
       "    </tr>\n",
       "  </thead>\n",
       "  <tbody>\n",
       "    <tr>\n",
       "      <th>0</th>\n",
       "      <td>0</td>\n",
       "      <td>7580</td>\n",
       "      <td>3244</td>\n",
       "    </tr>\n",
       "    <tr>\n",
       "      <th>1</th>\n",
       "      <td>1</td>\n",
       "      <td>33</td>\n",
       "      <td>27</td>\n",
       "    </tr>\n",
       "  </tbody>\n",
       "</table>\n",
       "</div>"
      ],
      "text/plain": [
       "   with_date  Total tweets  Total disasters\n",
       "0          0          7580             3244\n",
       "1          1            33               27"
      ]
     },
     "execution_count": 45,
     "metadata": {},
     "output_type": "execute_result"
    }
   ],
   "source": [
    "df['with_date'] = df.text.str.contains('((\\d{2})[/.-](\\d{2})[/.-](\\d{4})|(\\d{4})[/.-](\\d{2})[/.-](\\d{2})|(\\d{2})[/.-](\\d{2})[/.-](\\d{2})|(\\d{2})[/.-](?:Jan|Feb|Mar|Apr|May|Jun|Jul|Aug|Sep|Oct|Nov|Dec)[/.-](\\d{4})|(\\d{4})[/.-](?:Jan|Feb|Mar|Apr|May|Jun|Jul|Aug|Sep|Oct|Nov|Dec)[/.-](\\d{2})|(\\d{2})[/.-](?:Jan|Feb|Mar|Apr|May|Jun|Jul|Aug|Sep|Oct|Nov|Dec)[/.-](\\d{4}))', regex=True).astype(int)\n",
    "\n",
    "date_count = df.groupby(['with_date'])['target'].agg({'sum','count'}).reset_index()\n",
    "date_count.rename(columns={'sum' : 'Total disasters', 'count':'Total tweets'}, inplace=True)\n",
    "date_count.head()"
   ]
  },
  {
   "cell_type": "code",
   "execution_count": 46,
   "metadata": {},
   "outputs": [
    {
     "data": {
      "image/png": "[encoded data removed]",
      "text/plain": [
       "<Figure size 864x576 with 2 Axes>"
      ]
     },
     "metadata": {
      "needs_background": "light"
     },
     "output_type": "display_data"
    }
   ],
   "source": [
    "\n",
    "plt.subplot(1, 2, 1)\n",
    "\n",
    "f1=date_count.set_index('with_date').loc[0].plot(kind='bar', figsize=(12, 8), stacked =False , color=\"burlywood\", alpha=0.8, fontsize=14)\n",
    "plt.subplot(1, 2, 2)\n",
    "#date_count.set_index('with_date').loc[1].plot(kind='bar', figsize=(12, 8), stacked = False,cmap=\"Spectral\", alpha=0.7)\n",
    "f2=date_count.set_index('with_date').loc[1].plot(kind='bar', figsize=(12, 8), stacked = False,color=\"lightseagreen\", alpha=0.8, fontsize=14)\n",
    "\n",
    "f1.set_ylabel('Amount of Tweets', fontsize=14)\n",
    "f2.set_ylabel('Amount of Tweets', fontsize=14)\n",
    "f1.set_xlabel('Without date', fontsize=14)\n",
    "f2.set_xlabel('With date', fontsize=14)\n",
    "f1.set_xticklabels(f1.get_xticklabels(),rotation=0)\n",
    "f2.set_xticklabels(f2.get_xticklabels(),rotation=0)\n",
    "plt.suptitle(\"Disaster tweets with/without date\", fontsize=20)\n",
    "plt.savefig('Grafico1.png')"
   ]
  },
  {
   "cell_type": "code",
   "execution_count": 47,
   "metadata": {},
   "outputs": [
    {
     "data": {
      "text/html": [
       "<div>\n",
       "<style scoped>\n",
       "    .dataframe tbody tr th:only-of-type {\n",
       "        vertical-align: middle;\n",
       "    }\n",
       "\n",
       "    .dataframe tbody tr th {\n",
       "        vertical-align: top;\n",
       "    }\n",
       "\n",
       "    .dataframe thead th {\n",
       "        text-align: right;\n",
       "    }\n",
       "</style>\n",
       "<table border=\"1\" class=\"dataframe\">\n",
       "  <thead>\n",
       "    <tr style=\"text-align: right;\">\n",
       "      <th></th>\n",
       "      <th>with_time</th>\n",
       "      <th>Total tweets</th>\n",
       "      <th>Total disasters</th>\n",
       "    </tr>\n",
       "  </thead>\n",
       "  <tbody>\n",
       "    <tr>\n",
       "      <th>0</th>\n",
       "      <td>0</td>\n",
       "      <td>7485</td>\n",
       "      <td>3179</td>\n",
       "    </tr>\n",
       "    <tr>\n",
       "      <th>1</th>\n",
       "      <td>1</td>\n",
       "      <td>128</td>\n",
       "      <td>92</td>\n",
       "    </tr>\n",
       "  </tbody>\n",
       "</table>\n",
       "</div>"
      ],
      "text/plain": [
       "   with_time  Total tweets  Total disasters\n",
       "0          0          7485             3179\n",
       "1          1           128               92"
      ]
     },
     "execution_count": 47,
     "metadata": {},
     "output_type": "execute_result"
    }
   ],
   "source": [
    "df['with_time']= df.text.str.contains(\"((([0]?[1-9]|1[0-2])(:|\\.)[0-5][0-9]((:|\\.)[0-5][0-9])?( )?(AM|am|aM|Am|PM|pm|pM|Pm))|(([0]?[0-9]|1[0-9]|2[0-3])(:|\\.)[0-5][0-9]((:|\\.)[0-5][0-9])?))\", regex=True)\n",
    "df['with_time']=df['with_time'].astype(int)\n",
    "time_count = df.groupby(['with_time'])['target'].agg({'sum','count'}).reset_index()\n",
    "time_count.rename(columns={'sum' : 'Total disasters', 'count':'Total tweets'}, inplace=True)\n",
    "time_count.head()"
   ]
  },
  {
   "cell_type": "code",
   "execution_count": 48,
   "metadata": {},
   "outputs": [
    {
     "data": {
      "image/png": "[encoded data removed]",
      "text/plain": [
       "<Figure size 864x576 with 2 Axes>"
      ]
     },
     "metadata": {
      "needs_background": "light"
     },
     "output_type": "display_data"
    }
   ],
   "source": [
    "plt.subplot(1, 2, 1)\n",
    "\n",
    "f1=time_count.set_index('with_time').loc[0].plot(kind='bar', figsize=(12, 8), stacked =False , color=\"yellowgreen\", alpha=0.8, fontsize=14)\n",
    "plt.subplot(1, 2, 2)\n",
    "#date_count.set_index('with_date').loc[1].plot(kind='bar', figsize=(12, 8), stacked = False,cmap=\"Spectral\", alpha=0.7)\n",
    "f2=time_count.set_index('with_time').loc[1].plot(kind='bar', figsize=(12, 8), stacked = False,color=\"cornflowerblue\", alpha=0.8, fontsize=14)\n",
    "\n",
    "f1.set_ylabel('Amount of Tweets', fontsize=14)\n",
    "f2.set_ylabel('Amount of Tweets', fontsize=14)\n",
    "f1.set_xlabel('Without timestamp', fontsize=14)\n",
    "f2.set_xlabel('With timestamp', fontsize=14)\n",
    "f1.set_xticklabels(f1.get_xticklabels(),rotation=0)\n",
    "f2.set_xticklabels(f2.get_xticklabels(),rotation=0)\n",
    "plt.suptitle(\"Disaster tweets with/without timestamp\", fontsize=20)\n",
    "plt.savefig('Grafico2.png')"
   ]
  },
  {
   "cell_type": "code",
   "execution_count": 49,
   "metadata": {},
   "outputs": [],
   "source": [
    "def remove_URL(text):\n",
    "    url = re.compile(r'https?://\\S+|www\\.\\S+')\n",
    "    return url.sub(r'',text)\n",
    "\n",
    "df['textnoturl']=df['text'].agg(lambda x : remove_URL(x))\n"
   ]
  },
  {
   "cell_type": "code",
   "execution_count": 50,
   "metadata": {},
   "outputs": [],
   "source": [
    "df['#words']=df['text'].str.split().map(lambda x: len(x))"
   ]
  },
  {
   "cell_type": "code",
   "execution_count": 51,
   "metadata": {},
   "outputs": [],
   "source": [
    "def find_match2(str):\n",
    "    res = ' '\n",
    "    aux=str.split('#')\n",
    "    aux.pop(0)\n",
    "    if aux:\n",
    "        for a in aux:\n",
    "            if a:\n",
    "                res = res+' ' + a.split()[0]\n",
    "    return res"
   ]
  },
  {
   "cell_type": "code",
   "execution_count": 52,
   "metadata": {},
   "outputs": [
    {
     "data": {
      "text/html": [
       "<div>\n",
       "<style scoped>\n",
       "    .dataframe tbody tr th:only-of-type {\n",
       "        vertical-align: middle;\n",
       "    }\n",
       "\n",
       "    .dataframe tbody tr th {\n",
       "        vertical-align: top;\n",
       "    }\n",
       "\n",
       "    .dataframe thead th {\n",
       "        text-align: right;\n",
       "    }\n",
       "</style>\n",
       "<table border=\"1\" class=\"dataframe\">\n",
       "  <thead>\n",
       "    <tr style=\"text-align: right;\">\n",
       "      <th></th>\n",
       "      <th>keyword</th>\n",
       "      <th>location</th>\n",
       "      <th>text</th>\n",
       "      <th>target</th>\n",
       "      <th>long</th>\n",
       "      <th>equal_words</th>\n",
       "      <th>Tags</th>\n",
       "      <th>with_url</th>\n",
       "      <th>with_date</th>\n",
       "      <th>with_time</th>\n",
       "      <th>textnoturl</th>\n",
       "      <th>#words</th>\n",
       "      <th>hashtags</th>\n",
       "      <th>#hashtags</th>\n",
       "    </tr>\n",
       "  </thead>\n",
       "  <tbody>\n",
       "    <tr>\n",
       "      <th>0</th>\n",
       "      <td>NaN</td>\n",
       "      <td>NaN</td>\n",
       "      <td>Our Deeds are the Reason of this #earthquake M...</td>\n",
       "      <td>1</td>\n",
       "      <td>69</td>\n",
       "      <td>0</td>\n",
       "      <td>0</td>\n",
       "      <td>0</td>\n",
       "      <td>0</td>\n",
       "      <td>0</td>\n",
       "      <td>Our Deeds are the Reason of this #earthquake M...</td>\n",
       "      <td>13</td>\n",
       "      <td>earthquake</td>\n",
       "      <td>1</td>\n",
       "    </tr>\n",
       "    <tr>\n",
       "      <th>1</th>\n",
       "      <td>NaN</td>\n",
       "      <td>NaN</td>\n",
       "      <td>Forest fire near La Ronge Sask. Canada</td>\n",
       "      <td>1</td>\n",
       "      <td>38</td>\n",
       "      <td>0</td>\n",
       "      <td>0</td>\n",
       "      <td>0</td>\n",
       "      <td>0</td>\n",
       "      <td>0</td>\n",
       "      <td>Forest fire near La Ronge Sask. Canada</td>\n",
       "      <td>7</td>\n",
       "      <td></td>\n",
       "      <td>0</td>\n",
       "    </tr>\n",
       "    <tr>\n",
       "      <th>2</th>\n",
       "      <td>NaN</td>\n",
       "      <td>NaN</td>\n",
       "      <td>All residents asked to 'shelter in place' are ...</td>\n",
       "      <td>1</td>\n",
       "      <td>133</td>\n",
       "      <td>0</td>\n",
       "      <td>0</td>\n",
       "      <td>0</td>\n",
       "      <td>0</td>\n",
       "      <td>0</td>\n",
       "      <td>All residents asked to 'shelter in place' are ...</td>\n",
       "      <td>22</td>\n",
       "      <td></td>\n",
       "      <td>0</td>\n",
       "    </tr>\n",
       "    <tr>\n",
       "      <th>3</th>\n",
       "      <td>NaN</td>\n",
       "      <td>NaN</td>\n",
       "      <td>13,000 people receive #wildfires evacuation or...</td>\n",
       "      <td>1</td>\n",
       "      <td>65</td>\n",
       "      <td>0</td>\n",
       "      <td>0</td>\n",
       "      <td>0</td>\n",
       "      <td>0</td>\n",
       "      <td>0</td>\n",
       "      <td>13,000 people receive #wildfires evacuation or...</td>\n",
       "      <td>8</td>\n",
       "      <td>wildfires</td>\n",
       "      <td>1</td>\n",
       "    </tr>\n",
       "    <tr>\n",
       "      <th>4</th>\n",
       "      <td>NaN</td>\n",
       "      <td>NaN</td>\n",
       "      <td>Just got sent this photo from Ruby #Alaska as ...</td>\n",
       "      <td>1</td>\n",
       "      <td>88</td>\n",
       "      <td>0</td>\n",
       "      <td>0</td>\n",
       "      <td>0</td>\n",
       "      <td>0</td>\n",
       "      <td>0</td>\n",
       "      <td>Just got sent this photo from Ruby #Alaska as ...</td>\n",
       "      <td>16</td>\n",
       "      <td>Alaska wildfires</td>\n",
       "      <td>2</td>\n",
       "    </tr>\n",
       "  </tbody>\n",
       "</table>\n",
       "</div>"
      ],
      "text/plain": [
       "  keyword location                                               text  target  \\\n",
       "0     NaN      NaN  Our Deeds are the Reason of this #earthquake M...       1   \n",
       "1     NaN      NaN             Forest fire near La Ronge Sask. Canada       1   \n",
       "2     NaN      NaN  All residents asked to 'shelter in place' are ...       1   \n",
       "3     NaN      NaN  13,000 people receive #wildfires evacuation or...       1   \n",
       "4     NaN      NaN  Just got sent this photo from Ruby #Alaska as ...       1   \n",
       "\n",
       "   long  equal_words  Tags  with_url  with_date  with_time  \\\n",
       "0    69            0     0         0          0          0   \n",
       "1    38            0     0         0          0          0   \n",
       "2   133            0     0         0          0          0   \n",
       "3    65            0     0         0          0          0   \n",
       "4    88            0     0         0          0          0   \n",
       "\n",
       "                                          textnoturl  #words  \\\n",
       "0  Our Deeds are the Reason of this #earthquake M...      13   \n",
       "1             Forest fire near La Ronge Sask. Canada       7   \n",
       "2  All residents asked to 'shelter in place' are ...      22   \n",
       "3  13,000 people receive #wildfires evacuation or...       8   \n",
       "4  Just got sent this photo from Ruby #Alaska as ...      16   \n",
       "\n",
       "             hashtags  #hashtags  \n",
       "0          earthquake          1  \n",
       "1                              0  \n",
       "2                              0  \n",
       "3           wildfires          1  \n",
       "4    Alaska wildfires          2  "
      ]
     },
     "execution_count": 52,
     "metadata": {},
     "output_type": "execute_result"
    }
   ],
   "source": [
    "df['hashtags']=df['text'].agg(lambda x: find_match2(x))\n",
    "df.head()\n",
    "df['#hashtags']=df['hashtags'].str.split().map(lambda x: len(x))\n",
    "df.head()"
   ]
  },
  {
   "cell_type": "code",
   "execution_count": 53,
   "metadata": {},
   "outputs": [],
   "source": [
    "df[\"located\"] = df[\"location\"] == df[\"location\"]\n",
    "df.loc[df[\"located\"] == True,\"located\"] = 1\n",
    "df.loc[df[\"located\"] == False ,\"located\"] = 0\n",
    "df[\"located\"] = df[\"located\"].astype(int)"
   ]
  },
  {
   "cell_type": "code",
   "execution_count": 54,
   "metadata": {},
   "outputs": [],
   "source": [
    "df['has_keyword']=df['keyword'] == df['keyword']\n",
    "df.loc[df[\"has_keyword\"] == True,\"has_keyword\"] = 1\n",
    "df.loc[df[\"has_keyword\"] == False ,\"has_keyword\"] = 0\n",
    "\n",
    "df['has_keyword']=df['has_keyword'].astype(int)"
   ]
  },
  {
   "cell_type": "code",
   "execution_count": 55,
   "metadata": {},
   "outputs": [
    {
     "data": {
      "text/plain": [
       "7613"
      ]
     },
     "execution_count": 55,
     "metadata": {},
     "output_type": "execute_result"
    }
   ],
   "source": [
    "dfcor = df.drop(columns=['keyword', 'location', 'text', 'textnoturl', 'hashtags'])\n",
    "len(dfcor)"
   ]
  },
  {
   "cell_type": "code",
   "execution_count": 56,
   "metadata": {},
   "outputs": [
    {
     "data": {
      "text/html": [
       "<div>\n",
       "<style scoped>\n",
       "    .dataframe tbody tr th:only-of-type {\n",
       "        vertical-align: middle;\n",
       "    }\n",
       "\n",
       "    .dataframe tbody tr th {\n",
       "        vertical-align: top;\n",
       "    }\n",
       "\n",
       "    .dataframe thead th {\n",
       "        text-align: right;\n",
       "    }\n",
       "</style>\n",
       "<table border=\"1\" class=\"dataframe\">\n",
       "  <thead>\n",
       "    <tr style=\"text-align: right;\">\n",
       "      <th></th>\n",
       "      <th>equal_words_sum</th>\n",
       "      <th>Tags_sum</th>\n",
       "      <th>with_url_sum</th>\n",
       "      <th>with_date_sum</th>\n",
       "      <th>with_time_sum</th>\n",
       "      <th>#hashtags_sum</th>\n",
       "      <th>located_sum</th>\n",
       "      <th>has_keyword_sum</th>\n",
       "    </tr>\n",
       "    <tr>\n",
       "      <th>target</th>\n",
       "      <th></th>\n",
       "      <th></th>\n",
       "      <th></th>\n",
       "      <th></th>\n",
       "      <th></th>\n",
       "      <th></th>\n",
       "      <th></th>\n",
       "      <th></th>\n",
       "    </tr>\n",
       "  </thead>\n",
       "  <tbody>\n",
       "    <tr>\n",
       "      <th>0</th>\n",
       "      <td>867</td>\n",
       "      <td>1854</td>\n",
       "      <td>1799</td>\n",
       "      <td>6</td>\n",
       "      <td>36</td>\n",
       "      <td>1697</td>\n",
       "      <td>2884</td>\n",
       "      <td>4323</td>\n",
       "    </tr>\n",
       "    <tr>\n",
       "      <th>1</th>\n",
       "      <td>629</td>\n",
       "      <td>905</td>\n",
       "      <td>2172</td>\n",
       "      <td>27</td>\n",
       "      <td>92</td>\n",
       "      <td>1701</td>\n",
       "      <td>2196</td>\n",
       "      <td>3229</td>\n",
       "    </tr>\n",
       "  </tbody>\n",
       "</table>\n",
       "</div>"
      ],
      "text/plain": [
       "        equal_words_sum  Tags_sum  with_url_sum  with_date_sum  with_time_sum  \\\n",
       "target                                                                          \n",
       "0                   867      1854          1799              6             36   \n",
       "1                   629       905          2172             27             92   \n",
       "\n",
       "        #hashtags_sum  located_sum  has_keyword_sum  \n",
       "target                                               \n",
       "0                1697         2884             4323  \n",
       "1                1701         2196             3229  "
      ]
     },
     "execution_count": 56,
     "metadata": {},
     "output_type": "execute_result"
    }
   ],
   "source": [
    "df2=dfcor.drop(columns=['long', '#words']).groupby('target').agg(['sum'])\n",
    "level0= df2.columns.get_level_values(0)\n",
    "level1= df2.columns.get_level_values(1)\n",
    "df2.columns = level0 + '_' + level1\n",
    "df2.head()"
   ]
  },
  {
   "cell_type": "code",
   "execution_count": 57,
   "metadata": {},
   "outputs": [
    {
     "data": {
      "image/png": "[encoded data removed]",
      "text/plain": [
       "<Figure size 864x432 with 2 Axes>"
      ]
     },
     "metadata": {
      "needs_background": "light"
     },
     "output_type": "display_data"
    }
   ],
   "source": [
    "sns.set_context(\"talk\")\n",
    "plt.figure(figsize=(12,6))\n",
    "cmap = sns.light_palette(color='firebrick',as_cmap=True)\n",
    "fig=sns.heatmap(df2, vmin=0, vmax=4500, cmap=cmap,\n",
    "            xticklabels=['Equal words', 'Tags', 'Url', 'Date','Timestamp', 'Hashtags', 'Location', 'Keyword'], \n",
    "            yticklabels=['Not a Disaster', 'Real Disaster'], robust=True)\n",
    "fig.set(xlabel=\"\",\n",
    "      ylabel=\"\", title=\"Total Tweets \")\n",
    "\n",
    "fig.set_yticklabels(fig.get_yticklabels(), rotation =0)\n",
    "plt.savefig('heat.png',bbox_inches='tight')"
   ]
  },
  {
   "cell_type": "code",
   "execution_count": 58,
   "metadata": {},
   "outputs": [
    {
     "data": {
      "text/plain": [
       "0       0\n",
       "1       0\n",
       "2       0\n",
       "3       0\n",
       "4       0\n",
       "       ..\n",
       "7608    0\n",
       "7609    0\n",
       "7610    0\n",
       "7611    0\n",
       "7612    0\n",
       "Name: has_keyword, Length: 7613, dtype: int32"
      ]
     },
     "execution_count": 58,
     "metadata": {},
     "output_type": "execute_result"
    }
   ],
   "source": [
    "dfcor.has_keyword"
   ]
  },
  {
   "cell_type": "code",
   "execution_count": 59,
   "metadata": {},
   "outputs": [
    {
     "data": {
      "text/html": [
       "<div>\n",
       "<style scoped>\n",
       "    .dataframe tbody tr th:only-of-type {\n",
       "        vertical-align: middle;\n",
       "    }\n",
       "\n",
       "    .dataframe tbody tr th {\n",
       "        vertical-align: top;\n",
       "    }\n",
       "\n",
       "    .dataframe thead th {\n",
       "        text-align: right;\n",
       "    }\n",
       "</style>\n",
       "<table border=\"1\" class=\"dataframe\">\n",
       "  <thead>\n",
       "    <tr style=\"text-align: right;\">\n",
       "      <th></th>\n",
       "      <th>equal_words_mean</th>\n",
       "      <th>Tags_mean</th>\n",
       "      <th>with_url_mean</th>\n",
       "      <th>with_date_mean</th>\n",
       "      <th>with_time_mean</th>\n",
       "      <th>#hashtags_mean</th>\n",
       "      <th>located_mean</th>\n",
       "    </tr>\n",
       "    <tr>\n",
       "      <th>target</th>\n",
       "      <th></th>\n",
       "      <th></th>\n",
       "      <th></th>\n",
       "      <th></th>\n",
       "      <th></th>\n",
       "      <th></th>\n",
       "      <th></th>\n",
       "    </tr>\n",
       "  </thead>\n",
       "  <tbody>\n",
       "    <tr>\n",
       "      <th>0</th>\n",
       "      <td>0.20</td>\n",
       "      <td>0.43</td>\n",
       "      <td>0.41</td>\n",
       "      <td>0.00</td>\n",
       "      <td>0.01</td>\n",
       "      <td>0.39</td>\n",
       "      <td>0.66</td>\n",
       "    </tr>\n",
       "    <tr>\n",
       "      <th>1</th>\n",
       "      <td>0.19</td>\n",
       "      <td>0.28</td>\n",
       "      <td>0.66</td>\n",
       "      <td>0.01</td>\n",
       "      <td>0.03</td>\n",
       "      <td>0.52</td>\n",
       "      <td>0.67</td>\n",
       "    </tr>\n",
       "  </tbody>\n",
       "</table>\n",
       "</div>"
      ],
      "text/plain": [
       "           equal_words_mean            Tags_mean        with_url_mean  \\\n",
       "target                                                                  \n",
       "0                      0.20                 0.43                 0.41   \n",
       "1                      0.19                 0.28                 0.66   \n",
       "\n",
       "             with_date_mean       with_time_mean       #hashtags_mean  \\\n",
       "target                                                                  \n",
       "0                      0.00                 0.01                 0.39   \n",
       "1                      0.01                 0.03                 0.52   \n",
       "\n",
       "               located_mean  \n",
       "target                       \n",
       "0                      0.66  \n",
       "1                      0.67  "
      ]
     },
     "execution_count": 59,
     "metadata": {},
     "output_type": "execute_result"
    }
   ],
   "source": [
    "df3=dfcor.drop(columns=['long', '#words', 'has_keyword']).groupby('target').agg(['mean'])\n",
    "level0= df3.columns.get_level_values(0)\n",
    "level1= df3.columns.get_level_values(1)\n",
    "df3.columns = level0 + '_' + level1\n",
    "df3.head()"
   ]
  },
  {
   "cell_type": "code",
   "execution_count": 60,
   "metadata": {},
   "outputs": [
    {
     "data": {
      "image/png": "[encoded data removed]",
      "text/plain": [
       "<Figure size 864x432 with 2 Axes>"
      ]
     },
     "metadata": {
      "needs_background": "light"
     },
     "output_type": "display_data"
    }
   ],
   "source": [
    "plt.figure(figsize=(12,6))\n",
    "fig = sns.heatmap(df3, vmin=0, vmax=1, cmap=\"YlGnBu\", \n",
    "                  xticklabels=['Equal words', 'Tags', 'Url', 'Date','Timestamp', 'Hashtags', 'Location'], \n",
    "                  yticklabels=['Not a Disaster', 'Real Disaster'], robust = True)\n",
    "fig.set(title='Mean of tweets', xlabel=\"\", ylabel=\"\")\n",
    "\n",
    "fig.set_yticklabels(fig.get_yticklabels(), rotation =0)\n",
    "plt.savefig('heatmean.png',bbox_inches='tight')"
   ]
  },
  {
   "cell_type": "code",
   "execution_count": 61,
   "metadata": {},
   "outputs": [
    {
     "data": {
      "text/html": [
       "<div>\n",
       "<style scoped>\n",
       "    .dataframe tbody tr th:only-of-type {\n",
       "        vertical-align: middle;\n",
       "    }\n",
       "\n",
       "    .dataframe tbody tr th {\n",
       "        vertical-align: top;\n",
       "    }\n",
       "\n",
       "    .dataframe thead th {\n",
       "        text-align: right;\n",
       "    }\n",
       "</style>\n",
       "<table border=\"1\" class=\"dataframe\">\n",
       "  <thead>\n",
       "    <tr style=\"text-align: right;\">\n",
       "      <th></th>\n",
       "      <th>target</th>\n",
       "      <th>long</th>\n",
       "      <th>equal_words</th>\n",
       "      <th>Tags</th>\n",
       "      <th>with_url</th>\n",
       "      <th>with_date</th>\n",
       "      <th>with_time</th>\n",
       "      <th>#words</th>\n",
       "      <th>#hashtags</th>\n",
       "      <th>located</th>\n",
       "      <th>has_keyword</th>\n",
       "    </tr>\n",
       "  </thead>\n",
       "  <tbody>\n",
       "    <tr>\n",
       "      <th>target</th>\n",
       "      <td>1.00</td>\n",
       "      <td>0.18</td>\n",
       "      <td>-0.01</td>\n",
       "      <td>-0.10</td>\n",
       "      <td>0.25</td>\n",
       "      <td>0.05</td>\n",
       "      <td>0.08</td>\n",
       "      <td>0.04</td>\n",
       "      <td>0.06</td>\n",
       "      <td>0.01</td>\n",
       "      <td>-0.05</td>\n",
       "    </tr>\n",
       "    <tr>\n",
       "      <th>long</th>\n",
       "      <td>0.18</td>\n",
       "      <td>1.00</td>\n",
       "      <td>0.20</td>\n",
       "      <td>0.06</td>\n",
       "      <td>0.28</td>\n",
       "      <td>0.03</td>\n",
       "      <td>0.05</td>\n",
       "      <td>0.84</td>\n",
       "      <td>0.21</td>\n",
       "      <td>0.05</td>\n",
       "      <td>0.07</td>\n",
       "    </tr>\n",
       "    <tr>\n",
       "      <th>equal_words</th>\n",
       "      <td>-0.01</td>\n",
       "      <td>0.20</td>\n",
       "      <td>1.00</td>\n",
       "      <td>-0.03</td>\n",
       "      <td>-0.04</td>\n",
       "      <td>-0.02</td>\n",
       "      <td>0.02</td>\n",
       "      <td>0.28</td>\n",
       "      <td>-0.03</td>\n",
       "      <td>-0.00</td>\n",
       "      <td>0.01</td>\n",
       "    </tr>\n",
       "    <tr>\n",
       "      <th>Tags</th>\n",
       "      <td>-0.10</td>\n",
       "      <td>0.06</td>\n",
       "      <td>-0.03</td>\n",
       "      <td>1.00</td>\n",
       "      <td>-0.22</td>\n",
       "      <td>-0.03</td>\n",
       "      <td>-0.04</td>\n",
       "      <td>0.04</td>\n",
       "      <td>-0.05</td>\n",
       "      <td>0.04</td>\n",
       "      <td>0.04</td>\n",
       "    </tr>\n",
       "    <tr>\n",
       "      <th>with_url</th>\n",
       "      <td>0.25</td>\n",
       "      <td>0.28</td>\n",
       "      <td>-0.04</td>\n",
       "      <td>-0.22</td>\n",
       "      <td>1.00</td>\n",
       "      <td>0.05</td>\n",
       "      <td>0.03</td>\n",
       "      <td>-0.12</td>\n",
       "      <td>0.18</td>\n",
       "      <td>0.04</td>\n",
       "      <td>0.03</td>\n",
       "    </tr>\n",
       "    <tr>\n",
       "      <th>with_date</th>\n",
       "      <td>0.05</td>\n",
       "      <td>0.03</td>\n",
       "      <td>-0.02</td>\n",
       "      <td>-0.03</td>\n",
       "      <td>0.05</td>\n",
       "      <td>1.00</td>\n",
       "      <td>0.33</td>\n",
       "      <td>-0.00</td>\n",
       "      <td>0.03</td>\n",
       "      <td>0.01</td>\n",
       "      <td>0.01</td>\n",
       "    </tr>\n",
       "    <tr>\n",
       "      <th>with_time</th>\n",
       "      <td>0.08</td>\n",
       "      <td>0.05</td>\n",
       "      <td>0.02</td>\n",
       "      <td>-0.04</td>\n",
       "      <td>0.03</td>\n",
       "      <td>0.33</td>\n",
       "      <td>1.00</td>\n",
       "      <td>0.04</td>\n",
       "      <td>0.04</td>\n",
       "      <td>-0.00</td>\n",
       "      <td>-0.03</td>\n",
       "    </tr>\n",
       "    <tr>\n",
       "      <th>#words</th>\n",
       "      <td>0.04</td>\n",
       "      <td>0.84</td>\n",
       "      <td>0.28</td>\n",
       "      <td>0.04</td>\n",
       "      <td>-0.12</td>\n",
       "      <td>-0.00</td>\n",
       "      <td>0.04</td>\n",
       "      <td>1.00</td>\n",
       "      <td>0.05</td>\n",
       "      <td>0.05</td>\n",
       "      <td>0.05</td>\n",
       "    </tr>\n",
       "    <tr>\n",
       "      <th>#hashtags</th>\n",
       "      <td>0.06</td>\n",
       "      <td>0.21</td>\n",
       "      <td>-0.03</td>\n",
       "      <td>-0.05</td>\n",
       "      <td>0.18</td>\n",
       "      <td>0.03</td>\n",
       "      <td>0.04</td>\n",
       "      <td>0.05</td>\n",
       "      <td>1.00</td>\n",
       "      <td>-0.00</td>\n",
       "      <td>-0.02</td>\n",
       "    </tr>\n",
       "    <tr>\n",
       "      <th>located</th>\n",
       "      <td>0.01</td>\n",
       "      <td>0.05</td>\n",
       "      <td>-0.00</td>\n",
       "      <td>0.04</td>\n",
       "      <td>0.04</td>\n",
       "      <td>0.01</td>\n",
       "      <td>-0.00</td>\n",
       "      <td>0.05</td>\n",
       "      <td>-0.00</td>\n",
       "      <td>1.00</td>\n",
       "      <td>0.13</td>\n",
       "    </tr>\n",
       "    <tr>\n",
       "      <th>has_keyword</th>\n",
       "      <td>-0.05</td>\n",
       "      <td>0.07</td>\n",
       "      <td>0.01</td>\n",
       "      <td>0.04</td>\n",
       "      <td>0.03</td>\n",
       "      <td>0.01</td>\n",
       "      <td>-0.03</td>\n",
       "      <td>0.05</td>\n",
       "      <td>-0.02</td>\n",
       "      <td>0.13</td>\n",
       "      <td>1.00</td>\n",
       "    </tr>\n",
       "  </tbody>\n",
       "</table>\n",
       "</div>"
      ],
      "text/plain": [
       "                          target                 long          equal_words  \\\n",
       "target                      1.00                 0.18                -0.01   \n",
       "long                        0.18                 1.00                 0.20   \n",
       "equal_words                -0.01                 0.20                 1.00   \n",
       "Tags                       -0.10                 0.06                -0.03   \n",
       "with_url                    0.25                 0.28                -0.04   \n",
       "with_date                   0.05                 0.03                -0.02   \n",
       "with_time                   0.08                 0.05                 0.02   \n",
       "#words                      0.04                 0.84                 0.28   \n",
       "#hashtags                   0.06                 0.21                -0.03   \n",
       "located                     0.01                 0.05                -0.00   \n",
       "has_keyword                -0.05                 0.07                 0.01   \n",
       "\n",
       "                            Tags             with_url            with_date  \\\n",
       "target                     -0.10                 0.25                 0.05   \n",
       "long                        0.06                 0.28                 0.03   \n",
       "equal_words                -0.03                -0.04                -0.02   \n",
       "Tags                        1.00                -0.22                -0.03   \n",
       "with_url                   -0.22                 1.00                 0.05   \n",
       "with_date                  -0.03                 0.05                 1.00   \n",
       "with_time                  -0.04                 0.03                 0.33   \n",
       "#words                      0.04                -0.12                -0.00   \n",
       "#hashtags                  -0.05                 0.18                 0.03   \n",
       "located                     0.04                 0.04                 0.01   \n",
       "has_keyword                 0.04                 0.03                 0.01   \n",
       "\n",
       "                       with_time               #words            #hashtags  \\\n",
       "target                      0.08                 0.04                 0.06   \n",
       "long                        0.05                 0.84                 0.21   \n",
       "equal_words                 0.02                 0.28                -0.03   \n",
       "Tags                       -0.04                 0.04                -0.05   \n",
       "with_url                    0.03                -0.12                 0.18   \n",
       "with_date                   0.33                -0.00                 0.03   \n",
       "with_time                   1.00                 0.04                 0.04   \n",
       "#words                      0.04                 1.00                 0.05   \n",
       "#hashtags                   0.04                 0.05                 1.00   \n",
       "located                    -0.00                 0.05                -0.00   \n",
       "has_keyword                -0.03                 0.05                -0.02   \n",
       "\n",
       "                         located          has_keyword  \n",
       "target                      0.01                -0.05  \n",
       "long                        0.05                 0.07  \n",
       "equal_words                -0.00                 0.01  \n",
       "Tags                        0.04                 0.04  \n",
       "with_url                    0.04                 0.03  \n",
       "with_date                   0.01                 0.01  \n",
       "with_time                  -0.00                -0.03  \n",
       "#words                      0.05                 0.05  \n",
       "#hashtags                  -0.00                -0.02  \n",
       "located                     1.00                 0.13  \n",
       "has_keyword                 0.13                 1.00  "
      ]
     },
     "execution_count": 61,
     "metadata": {},
     "output_type": "execute_result"
    }
   ],
   "source": [
    "dfcorr= dfcor.corr() \n",
    "dfcorr"
   ]
  },
  {
   "cell_type": "code",
   "execution_count": 62,
   "metadata": {},
   "outputs": [
    {
     "data": {
      "image/png": "[encoded data removed]",
      "text/plain": [
       "<Figure size 864x432 with 2 Axes>"
      ]
     },
     "metadata": {
      "needs_background": "light"
     },
     "output_type": "display_data"
    }
   ],
   "source": [
    "plt.figure(figsize=(12,6))\n",
    "cmap = sns.diverging_palette(295, 180, s=80, l=55, as_cmap=True)\n",
    "fig=sns.heatmap(dfcorr, vmin=-1, vmax=1, cmap=cmap,\n",
    "            xticklabels=['Truthfulness','Lenght','Equal words', 'Tags', 'Url', 'Date', 'Timestamp','Words', 'Hashtags', 'Location', 'Keyword'], \n",
    "            yticklabels=['Truthfulness','Length','Equal words', 'Tags', 'Url', 'Date', 'Timestamp', 'Words', 'Hashtags', 'Location', 'Keyword'])\n",
    "fig.set(xlabel=\"\",\n",
    "      ylabel=\"\", title='Correlation between variables')\n",
    "\n",
    "fig.set_yticklabels(fig.get_yticklabels(), rotation =0)\n",
    "\n",
    "plt.savefig('heatcorr.png',bbox_inches='tight')"
   ]
  }
 ],
 "metadata": {
  "kernelspec": {
   "display_name": "Python 3",
   "language": "python",
   "name": "python3"
  },
  "language_info": {
   "codemirror_mode": {
    "name": "ipython",
    "version": 3
   },
   "file_extension": ".py",
   "mimetype": "text/x-python",
   "name": "python",
   "nbconvert_exporter": "python",
   "pygments_lexer": "ipython3",
   "version": "3.7.0"
  }
 },
 "nbformat": 4,
 "nbformat_minor": 4
}
